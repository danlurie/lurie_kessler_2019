{
 "cells": [
  {
   "cell_type": "markdown",
   "metadata": {},
   "source": [
    "## Timeline Figure"
   ]
  },
  {
   "cell_type": "code",
   "execution_count": 1,
   "metadata": {},
   "outputs": [],
   "source": [
    "from Bio import Entrez\n",
    "import numpy as np\n",
    "import pandas as pd\n",
    "import matplotlib.pyplot as plt\n",
    "import seaborn as sns\n",
    "%matplotlib inline\n",
    "%config InlineBackend.figure_format = 'retina'"
   ]
  },
  {
   "cell_type": "code",
   "execution_count": 2,
   "metadata": {},
   "outputs": [],
   "source": [
    "def search(query):\n",
    "    Entrez.email = 'dan.lurie@berkeley.edu'\n",
    "    handle = Entrez.esearch(db='pubmed', \n",
    "                            sort='date', \n",
    "                            retmax='100000',\n",
    "                            retmode='xml', \n",
    "                            term=query)\n",
    "    results = Entrez.read(handle)\n",
    "    return results"
   ]
  },
  {
   "cell_type": "code",
   "execution_count": 3,
   "metadata": {},
   "outputs": [],
   "source": [
    "def fetch_details(id_list):\n",
    "    ids = ','.join(id_list)\n",
    "    Entrez.email = 'dan.lurie@berkeley.edu'\n",
    "    handle = Entrez.efetch(db='pubmed',\n",
    "                           retmode='xml',\n",
    "                           id=ids)\n",
    "    results = Entrez.read(handle)\n",
    "    return results"
   ]
  },
  {
   "cell_type": "markdown",
   "metadata": {},
   "source": [
    "### Pull all fMRI TVC papers"
   ]
  },
  {
   "cell_type": "code",
   "execution_count": 4,
   "metadata": {},
   "outputs": [],
   "source": [
    "tvc_all = search('(\"dynamic connectivity\"[TIAB] OR \\\n",
    "             \"dynamic functional connectivity\"[TIAB] OR \\\n",
    "             \"dynamic FC\"[TIAB] OR \\\n",
    "             \"connectivity dynamics\"[TIAB] OR \\\n",
    "             \"FC dynamics\"[TIAB] OR \\\n",
    "             \"functional network dynamics\"[TIAB] OR \\\n",
    "             \"FC network dynamics\"[TIAB] OR \\\n",
    "             \"functional brain network dynamics\"[TIAB] OR \\\n",
    "             \"time-varying connectivity\"[TIAB] OR \\\n",
    "             \"time-varying functional connectivity\"[TIAB] OR \\\n",
    "             \"time-varying FC\"[TIAB] OR \\\n",
    "             \"time varying connectivity\"[TIAB] OR \\\n",
    "             \"time varying functional connectivity\"[TIAB] OR \\\n",
    "             \"time varying FC\"[TIAB] OR \\\n",
    "             \"time resolved connectivity\"[TIAB] OR \\\n",
    "             \"time resolved functional connectivity\"[TIAB] OR \\\n",
    "             \"time resolved FC\"[TIAB] OR \\\n",
    "             \"time-resolved connectivity\"[TIAB] OR \\\n",
    "             \"time-resolved functional connectivity\"[TIAB] OR \\\n",
    "             \"time-resolved FC\"[TIAB] OR \\\n",
    "             \"dynamic functional network connectivity\"[TIAB]) AND \\\n",
    "             (\"functional magnetic resonance imaging\"[TIAB] OR \"functional MRI\"[TIAB] OR \"fmri\"[TIAB])')"
   ]
  },
  {
   "cell_type": "code",
   "execution_count": 5,
   "metadata": {},
   "outputs": [],
   "source": [
    "tvc_all_papers = fetch_details(tvc_all['IdList'])"
   ]
  },
  {
   "cell_type": "markdown",
   "metadata": {},
   "source": [
    "Pull article title and publication year for each article."
   ]
  },
  {
   "cell_type": "code",
   "execution_count": 6,
   "metadata": {},
   "outputs": [],
   "source": [
    "paper_records_tvc_all = []\n",
    "for record in tvc_all_papers['PubmedArticle']:\n",
    "    paper_records_tvc_all.append((record['MedlineCitation']['Article'].get('ArticleTitle', \"?\"), record['PubmedData']['History'][2].get('Year', \"?\")))"
   ]
  },
  {
   "cell_type": "code",
   "execution_count": 7,
   "metadata": {},
   "outputs": [],
   "source": [
    "tvc_all_papers_df = pd.DataFrame.from_records(paper_records_tvc_all, columns=['Title', 'Year'])"
   ]
  },
  {
   "cell_type": "markdown",
   "metadata": {},
   "source": [
    "Check for duplicate papers."
   ]
  },
  {
   "cell_type": "code",
   "execution_count": 8,
   "metadata": {},
   "outputs": [
    {
     "data": {
      "text/html": [
       "<div>\n",
       "<style>\n",
       "    .dataframe thead tr:only-child th {\n",
       "        text-align: right;\n",
       "    }\n",
       "\n",
       "    .dataframe thead th {\n",
       "        text-align: left;\n",
       "    }\n",
       "\n",
       "    .dataframe tbody tr th {\n",
       "        vertical-align: top;\n",
       "    }\n",
       "</style>\n",
       "<table border=\"1\" class=\"dataframe\">\n",
       "  <thead>\n",
       "    <tr style=\"text-align: right;\">\n",
       "      <th></th>\n",
       "      <th>Title</th>\n",
       "      <th>Year</th>\n",
       "    </tr>\n",
       "  </thead>\n",
       "  <tbody>\n",
       "    <tr>\n",
       "      <th>106</th>\n",
       "      <td>Abnormal dynamic functional connectivity of am...</td>\n",
       "      <td>2018</td>\n",
       "    </tr>\n",
       "    <tr>\n",
       "      <th>129</th>\n",
       "      <td>Abnormal dynamic functional connectivity of am...</td>\n",
       "      <td>2018</td>\n",
       "    </tr>\n",
       "  </tbody>\n",
       "</table>\n",
       "</div>"
      ],
      "text/plain": [
       "                                                 Title  Year\n",
       "106  Abnormal dynamic functional connectivity of am...  2018\n",
       "129  Abnormal dynamic functional connectivity of am...  2018"
      ]
     },
     "execution_count": 8,
     "metadata": {},
     "output_type": "execute_result"
    }
   ],
   "source": [
    "tvc_all_papers_df[tvc_all_papers_df.duplicated(subset='Title', keep=False)]"
   ]
  },
  {
   "cell_type": "markdown",
   "metadata": {},
   "source": [
    "Drop duplicate papers."
   ]
  },
  {
   "cell_type": "code",
   "execution_count": 9,
   "metadata": {},
   "outputs": [],
   "source": [
    "tvc_all_papers_df = tvc_all_papers_df.drop_duplicates(subset='Title')"
   ]
  },
  {
   "cell_type": "markdown",
   "metadata": {},
   "source": [
    "Double-check that our pre-print isn't included in this list."
   ]
  },
  {
   "cell_type": "code",
   "execution_count": 10,
   "metadata": {},
   "outputs": [
    {
     "data": {
      "text/plain": [
       "array([['EEG Signatures of Dynamic Functional Network Connectivity States.',\n",
       "        '2017']], dtype=object)"
      ]
     },
     "execution_count": 10,
     "metadata": {},
     "output_type": "execute_result"
    }
   ],
   "source": [
    "tvc_all_papers_df[tvc_all_papers_df['Title'].str.contains(\"nature\")].values"
   ]
  },
  {
   "cell_type": "markdown",
   "metadata": {},
   "source": [
    "### Pull only resting fMRI TVC papers"
   ]
  },
  {
   "cell_type": "code",
   "execution_count": 11,
   "metadata": {},
   "outputs": [],
   "source": [
    "tvc_rest = search('(\"dynamic connectivity\"[TIAB] OR \\\n",
    "             \"dynamic functional connectivity\"[TIAB] OR \\\n",
    "             \"dynamic FC\"[TIAB] OR \\\n",
    "             \"connectivity dynamics\"[TIAB] OR \\\n",
    "             \"FC dynamics\"[TIAB] OR \\\n",
    "             \"functional network dynamics\"[TIAB] OR \\\n",
    "             \"FC network dynamics\"[TIAB] OR \\\n",
    "             \"functional brain network dynamics\"[TIAB] OR \\\n",
    "             \"time-varying connectivity\"[TIAB] OR \\\n",
    "             \"time-varying functional connectivity\"[TIAB] OR \\\n",
    "             \"time-varying FC\"[TIAB] OR \\\n",
    "             \"time varying connectivity\"[TIAB] OR \\\n",
    "             \"time varying functional connectivity\"[TIAB] OR \\\n",
    "             \"time varying FC\"[TIAB] OR \\\n",
    "             \"time resolved connectivity\"[TIAB] OR \\\n",
    "             \"time resolved functional connectivity\"[TIAB] OR \\\n",
    "             \"time resolved FC\"[TIAB] OR \\\n",
    "             \"time-resolved connectivity\"[TIAB] OR \\\n",
    "             \"time-resolved functional connectivity\"[TIAB] OR \\\n",
    "             \"time-resolved FC\"[TIAB] OR \\\n",
    "             \"dynamic functional network connectivity\"[TIAB]) AND \\\n",
    "             (\"functional magnetic resonance imaging\"[TIAB] OR \"functional MRI\"[TIAB] OR \"fmri\"[TIAB]) AND \\\n",
    "             (\"rest\"[TIAB] OR \"resting\"[TIAB] OR \"resting-state\"[TIAB] OR \"intrinsic\"[TIAB])')"
   ]
  },
  {
   "cell_type": "code",
   "execution_count": 12,
   "metadata": {},
   "outputs": [],
   "source": [
    "tvc_rest_papers = fetch_details(tvc_rest['IdList'])"
   ]
  },
  {
   "cell_type": "markdown",
   "metadata": {},
   "source": [
    "Pull article title and publication year for each article."
   ]
  },
  {
   "cell_type": "code",
   "execution_count": 13,
   "metadata": {},
   "outputs": [],
   "source": [
    "paper_records_tvc_rest = []\n",
    "for record in tvc_rest_papers['PubmedArticle']:\n",
    "    paper_records_tvc_rest.append((record['MedlineCitation']['Article'].get('ArticleTitle', \"?\"), record['PubmedData']['History'][2].get('Year', \"?\")))"
   ]
  },
  {
   "cell_type": "code",
   "execution_count": 14,
   "metadata": {},
   "outputs": [],
   "source": [
    "tvc_rest_papers_df = pd.DataFrame.from_records(paper_records_tvc_rest, columns=['Title', 'Year'])"
   ]
  },
  {
   "cell_type": "markdown",
   "metadata": {},
   "source": [
    "Check for duplicate papers."
   ]
  },
  {
   "cell_type": "code",
   "execution_count": 15,
   "metadata": {},
   "outputs": [
    {
     "data": {
      "text/html": [
       "<div>\n",
       "<style>\n",
       "    .dataframe thead tr:only-child th {\n",
       "        text-align: right;\n",
       "    }\n",
       "\n",
       "    .dataframe thead th {\n",
       "        text-align: left;\n",
       "    }\n",
       "\n",
       "    .dataframe tbody tr th {\n",
       "        vertical-align: top;\n",
       "    }\n",
       "</style>\n",
       "<table border=\"1\" class=\"dataframe\">\n",
       "  <thead>\n",
       "    <tr style=\"text-align: right;\">\n",
       "      <th></th>\n",
       "      <th>Title</th>\n",
       "      <th>Year</th>\n",
       "    </tr>\n",
       "  </thead>\n",
       "  <tbody>\n",
       "    <tr>\n",
       "      <th>90</th>\n",
       "      <td>Abnormal dynamic functional connectivity of am...</td>\n",
       "      <td>2018</td>\n",
       "    </tr>\n",
       "    <tr>\n",
       "      <th>108</th>\n",
       "      <td>Abnormal dynamic functional connectivity of am...</td>\n",
       "      <td>2018</td>\n",
       "    </tr>\n",
       "  </tbody>\n",
       "</table>\n",
       "</div>"
      ],
      "text/plain": [
       "                                                 Title  Year\n",
       "90   Abnormal dynamic functional connectivity of am...  2018\n",
       "108  Abnormal dynamic functional connectivity of am...  2018"
      ]
     },
     "execution_count": 15,
     "metadata": {},
     "output_type": "execute_result"
    }
   ],
   "source": [
    "tvc_rest_papers_df[tvc_rest_papers_df.duplicated(subset='Title', keep=False)]"
   ]
  },
  {
   "cell_type": "markdown",
   "metadata": {},
   "source": [
    "Drop duplicate papers."
   ]
  },
  {
   "cell_type": "code",
   "execution_count": 16,
   "metadata": {},
   "outputs": [],
   "source": [
    "tvc_rest_papers_df = tvc_rest_papers_df.drop_duplicates(subset='Title')"
   ]
  },
  {
   "cell_type": "markdown",
   "metadata": {},
   "source": [
    "Double-check that our pre-print isn't included in this list."
   ]
  },
  {
   "cell_type": "markdown",
   "metadata": {},
   "source": [
    "Get counts for publications by year."
   ]
  },
  {
   "cell_type": "code",
   "execution_count": 17,
   "metadata": {},
   "outputs": [],
   "source": [
    "all_counts = tvc_all_papers_df.Year.value_counts().copy()\n",
    "rest_counts = tvc_rest_papers_df.Year.value_counts().copy()"
   ]
  },
  {
   "cell_type": "code",
   "execution_count": 18,
   "metadata": {},
   "outputs": [],
   "source": [
    "all_counts = all_counts.sort_index()\n",
    "rest_counts = rest_counts.sort_index()"
   ]
  },
  {
   "cell_type": "code",
   "execution_count": 19,
   "metadata": {},
   "outputs": [],
   "source": [
    "# Drop papers prior to 2010 and before 2019\n",
    "all_counts = all_counts[3:-1]\n",
    "rest_counts = rest_counts[0:-1] # rest_counts only starts at 2011,"
   ]
  },
  {
   "cell_type": "code",
   "execution_count": 20,
   "metadata": {},
   "outputs": [],
   "source": [
    "# Add a zero value for 2010 to rest_counts so that it is the same length as all_counts\n",
    "rest_counts = pd.Series([0], index=['2010']).append(rest_counts)"
   ]
  },
  {
   "cell_type": "code",
   "execution_count": 21,
   "metadata": {},
   "outputs": [
    {
     "data": {
      "text/plain": [
       "2010      2\n",
       "2011      3\n",
       "2012      5\n",
       "2013      9\n",
       "2014     24\n",
       "2015     34\n",
       "2016     54\n",
       "2017     99\n",
       "2018    111\n",
       "Name: Year, dtype: int64"
      ]
     },
     "execution_count": 21,
     "metadata": {},
     "output_type": "execute_result"
    }
   ],
   "source": [
    "all_counts"
   ]
  },
  {
   "cell_type": "code",
   "execution_count": 22,
   "metadata": {},
   "outputs": [
    {
     "data": {
      "text/plain": [
       "2010     0\n",
       "2011     2\n",
       "2012     2\n",
       "2013     7\n",
       "2014    17\n",
       "2015    24\n",
       "2016    38\n",
       "2017    77\n",
       "2018    86\n",
       "dtype: int64"
      ]
     },
     "execution_count": 22,
     "metadata": {},
     "output_type": "execute_result"
    }
   ],
   "source": [
    "rest_counts"
   ]
  },
  {
   "cell_type": "code",
   "execution_count": 26,
   "metadata": {},
   "outputs": [
    {
     "data": {
      "image/png": "[encoded data removed]",
      "text/plain": [
       "<Figure size 720x576 with 1 Axes>"
      ]
     },
     "metadata": {
      "image/png": {
       "height": 497,
       "width": 593
      },
      "needs_background": "light"
     },
     "output_type": "display_data"
    }
   ],
   "source": [
    "fig, ax = plt.subplots(figsize=(10,8))\n",
    "sns.barplot(all_counts.index, all_counts, color=\"#fc8d62\", label=\"All TVC Papers\")\n",
    "sns.barplot(rest_counts.index, rest_counts, color=\"#66c2a5\", label='Resting TVC Papers')\n",
    "\n",
    "for i in range(len(all_counts.index)):\n",
    "    ax.text(x = i , y = all_counts[i]+2.5, s = all_counts[i], horizontalalignment='center', fontdict={'size':'14'})\n",
    "    \n",
    "ax.spines['top'].set_visible(False)\n",
    "ax.spines['left'].set_visible(False)\n",
    "ax.spines['right'].set_visible(False)\n",
    "ax.tick_params(left=False, labelleft=False, labelsize=16)\n",
    "plt.xticks(rotation=45)\n",
    "plt.ylabel('Papers Published Per Year', size=16)\n",
    "ax.yaxis.set_label_position(\"right\")\n",
    "plt.legend(prop={'size': 16})\n",
    "fig.savefig('../figs/timeline.eps', dpi=300)"
   ]
  },
  {
   "cell_type": "code",
   "execution_count": null,
   "metadata": {},
   "outputs": [],
   "source": []
  }
 ],
 "metadata": {
  "kernelspec": {
   "display_name": "Python (sandbox)",
   "language": "python",
   "name": "sandbox"
  },
  "language_info": {
   "codemirror_mode": {
    "name": "ipython",
    "version": 3
   },
   "file_extension": ".py",
   "mimetype": "text/x-python",
   "name": "python",
   "nbconvert_exporter": "python",
   "pygments_lexer": "ipython3",
   "version": "3.5.3"
  }
 },
 "nbformat": 4,
 "nbformat_minor": 2
}
